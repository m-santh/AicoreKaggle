{
  "nbformat": 4,
  "nbformat_minor": 0,
  "metadata": {
    "colab": {
      "name": "Copy of classifier.ipynb",
      "provenance": [],
      "mount_file_id": "1nXxJF2mmDb9jqw9z5fGPp2kDG57uVefL",
      "authorship_tag": "ABX9TyPI+NLLc0GE7efaHFdLlF5i",
      "include_colab_link": true
    },
    "kernelspec": {
      "name": "python3",
      "display_name": "Python 3"
    },
    "accelerator": "TPU"
  },
  "cells": [
    {
      "cell_type": "markdown",
      "metadata": {
        "id": "view-in-github",
        "colab_type": "text"
      },
      "source": [
        "<a href=\"https://colab.research.google.com/github/m-santh/AicoreKaggle/blob/main/classifier.ipynb\" target=\"_parent\"><img src=\"https://colab.research.google.com/assets/colab-badge.svg\" alt=\"Open In Colab\"/></a>"
      ]
    },
    {
      "cell_type": "code",
      "metadata": {
        "id": "IGESPEgPHQHg",
        "colab": {
          "base_uri": "https://localhost:8080/"
        },
        "outputId": "c2a4340b-7b46-492b-ddec-93bb3e8b8fba"
      },
      "source": [
        "import numpy as np\n",
        "\n",
        "import os\n",
        "#os.chdir(\"../../Kaggle/\")\n",
        "\n",
        "from sklearn.metrics import confusion_matrix \n",
        "from sklearn.model_selection import train_test_split \n",
        "\n",
        "data_X = np.load('/content/drive/MyDrive/AiCore/X_train.npy')\n",
        "data_Y = np.load('/content/drive/MyDrive/AiCore/y_train.npy')\n",
        "test_data = np.load('/content/drive/MyDrive/AiCore/X_test.npy')\n",
        "\n",
        "print(np.shape(data_X))\n",
        "\n",
        "print(np.shape(data_Y))\n",
        "\n",
        "print(np.shape(test_data))\n",
        "\n",
        "\n",
        "X_train, X_test, y_train, y_test = train_test_split(data_X, data_Y, random_state = 0)\n",
        "\n",
        "# training a linear SVM classifier \n",
        "from sklearn.svm import SVC \n",
        "svm_model_linear = SVC(kernel = 'linear', C = 1).fit(X_train, y_train) \n",
        "svm_predictions = svm_model_linear.predict(X_test) \n",
        "  \n",
        "# model accuracy for X_test   \n",
        "accuracy = svm_model_linear.score(X_test, y_test) \n",
        "\n",
        "print(accuracy)\n",
        "# creating a confusion matrix \n",
        "cm = confusion_matrix(y_test, svm_predictions) \n",
        "\n",
        "print(cm)"
      ],
      "execution_count": null,
      "outputs": [
        {
          "output_type": "stream",
          "text": [
            "(10000, 100)\n",
            "(10000,)\n",
            "(40000, 100)\n"
          ],
          "name": "stdout"
        }
      ]
    }
  ]
}
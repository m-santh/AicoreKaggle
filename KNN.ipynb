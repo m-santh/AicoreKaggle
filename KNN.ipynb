{
  "nbformat": 4,
  "nbformat_minor": 0,
  "metadata": {
    "colab": {
      "name": "KNN.ipynb",
      "provenance": [],
      "mount_file_id": "1X6ed5GXPb2JfZICM8kxsYCNR9BY8-EeD",
      "authorship_tag": "ABX9TyO9wTOKscZ+RFx9pLIkd0wl",
      "include_colab_link": true
    },
    "kernelspec": {
      "name": "python3",
      "display_name": "Python 3"
    },
    "accelerator": "TPU"
  },
  "cells": [
    {
      "cell_type": "markdown",
      "metadata": {
        "id": "view-in-github",
        "colab_type": "text"
      },
      "source": [
        "<a href=\"https://colab.research.google.com/github/m-santh/AicoreKaggle/blob/main/KNN.ipynb\" target=\"_parent\"><img src=\"https://colab.research.google.com/assets/colab-badge.svg\" alt=\"Open In Colab\"/></a>"
      ]
    },
    {
      "cell_type": "code",
      "metadata": {
        "colab": {
          "base_uri": "https://localhost:8080/"
        },
        "id": "Dx7Z7jrpkx-k",
        "outputId": "4c0e7618-5d45-46a5-ea0e-58704a67987d"
      },
      "source": [
        "import numpy as np\n",
        "\n",
        "import os\n",
        "#os.chdir(\"../../Kaggle/\")\n",
        "\n",
        "from sklearn.metrics import confusion_matrix \n",
        "from sklearn.model_selection import train_test_split \n",
        "\n",
        "data_X = np.load('/content/drive/MyDrive/AiCore/X_train.npy')\n",
        "data_Y = np.load('/content/drive/MyDrive/AiCore/y_train.npy')\n",
        "data_Y = data_Y.astype(int) \n",
        "test_data = np.load('/content/drive/MyDrive/AiCore/X_test.npy')\n",
        "\n",
        "print(np.shape(data_X))\n",
        "\n",
        "print(np.shape(data_Y))\n",
        "\n",
        "print(np.shape(test_data))\n",
        "\n",
        "\n",
        "X_train, X_test, y_train, y_test = train_test_split(data_X, data_Y, random_state = 0)\n",
        "\n",
        "from sklearn.neighbors import KNeighborsClassifier \n",
        "knn = KNeighborsClassifier(n_neighbors = 7).fit(X_train, y_train) \n",
        "  \n",
        "# accuracy on X_test \n",
        "accuracy = knn.score(X_test, y_test) \n",
        "print(accuracy)\n",
        "  \n",
        "# creating a confusion matrix \n",
        "knn_predictions = knn.predict(X_test)  \n",
        "cm = confusion_matrix(y_test, knn_predictions) \n",
        "print(cm)"
      ],
      "execution_count": 3,
      "outputs": [
        {
          "output_type": "stream",
          "text": [
            "(10000, 100)\n",
            "(10000,)\n",
            "(40000, 100)\n",
            "0.3024\n",
            "[[126   3  25   6  14   4  12   8  52   3]\n",
            " [ 22  44  26   7  31  10  36   6  50  13]\n",
            " [ 25   2  99  11  57  10  22   5   8   0]\n",
            " [ 18   1  57  49  45  25  42   7   8   1]\n",
            " [ 23   3  73  11  91   5  31   6  12   0]\n",
            " [ 12   4  67  35  46  43  37   9   5   2]\n",
            " [  7   2  69   8  63   7  83   2   3   1]\n",
            " [ 22   1  56  14  68   7  20  43   8   6]\n",
            " [ 43   8  18   5  11   2   5   3 145   3]\n",
            " [ 44  24  30  10  21   4  23  16  57  33]]\n"
          ],
          "name": "stdout"
        }
      ]
    },
    {
      "cell_type": "code",
      "metadata": {
        "id": "O9AdYjNhlaLH"
      },
      "source": [
        "cm."
      ],
      "execution_count": null,
      "outputs": []
    }
  ]
}
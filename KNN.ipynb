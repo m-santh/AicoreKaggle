{
  "nbformat": 4,
  "nbformat_minor": 0,
  "metadata": {
    "colab": {
      "name": "KNN.ipynb",
      "provenance": [],
      "mount_file_id": "1X6ed5GXPb2JfZICM8kxsYCNR9BY8-EeD",
      "authorship_tag": "ABX9TyPfR/CQ/WETYzx1556fBXTw",
      "include_colab_link": true
    },
    "kernelspec": {
      "name": "python3",
      "display_name": "Python 3"
    },
    "accelerator": "TPU"
  },
  "cells": [
    {
      "cell_type": "markdown",
      "metadata": {
        "id": "view-in-github",
        "colab_type": "text"
      },
      "source": [
        "<a href=\"https://colab.research.google.com/github/m-santh/AicoreKaggle/blob/main/KNN.ipynb\" target=\"_parent\"><img src=\"https://colab.research.google.com/assets/colab-badge.svg\" alt=\"Open In Colab\"/></a>"
      ]
    },
    {
      "cell_type": "code",
      "metadata": {
        "colab": {
          "base_uri": "https://localhost:8080/"
        },
        "id": "Dx7Z7jrpkx-k",
        "outputId": "3c48c29d-1213-469d-c9bc-a6e3c5fe781e"
      },
      "source": [
        "import numpy as np\n",
        "\n",
        "import os\n",
        "#os.chdir(\"../../Kaggle/\")\n",
        "\n",
        "from sklearn.metrics import confusion_matrix \n",
        "from sklearn.model_selection import train_test_split \n",
        "from sklearn.preprocessing import MinMaxScaler, StandardScaler\n",
        "from sklearn.neighbors import KNeighborsClassifier\n",
        "from sklearn.preprocessing import StandardScaler\n",
        "from sklearn.preprocessing import MinMaxScaler\n",
        "from sklearn.preprocessing import RobustScaler\n",
        "from sklearn.metrics import accuracy_score\n",
        "from sklearn.model_selection import train_test_split\n",
        "from sklearn.metrics import roc_auc_score\n",
        "from sklearn.model_selection import GridSearchCV\n",
        "\n",
        "data_X = np.load('/content/drive/MyDrive/AiCore/X_train.npy')\n",
        "data_Y = np.load('/content/drive/MyDrive/AiCore/y_train.npy')\n",
        "data_Y = data_Y.astype(int) \n",
        "test_data = np.load('/content/drive/MyDrive/AiCore/X_test.npy')\n",
        "\n",
        "print(np.shape(data_X))\n",
        "\n",
        "print(np.shape(data_Y))\n",
        "\n",
        "print(np.shape(test_data))\n",
        "\n",
        "scaler = MinMaxScaler()\n",
        "#scaler = StandardScaler()\n",
        "\n",
        "#scaler.fit_transform(X=data_X)\n",
        "\n",
        "X_train, X_test, y_train, y_test = train_test_split(data_X, data_Y, random_state = 37)\n",
        "\n",
        "from sklearn.neighbors import KNeighborsClassifier \n",
        "#knn = KNeighborsClassifier(n_neighbors = 10).fit(X_train, y_train) \n",
        "knn = KNeighborsClassifier()\n",
        "  \n",
        "leaf_size = list(range(1,50))\n",
        "n_neighbors = list(range(1,30))\n",
        "p=[1,2]#convert to dictionary\n",
        "hyperparameters = dict(leaf_size=leaf_size, n_neighbors=n_neighbors, p=p)#Making model\n",
        "clf = GridSearchCV(knn, hyperparameters, cv=10)\n",
        "best_model = clf.fit(X_train,y_train)#Best Hyperparameters Value\n",
        "print('Best leaf_size:', best_model.best_estimator_.get_params()['leaf_size'])\n",
        "print('Best p:', best_model.best_estimator_.get_params()['p'])\n",
        "print('Best n_neighbors:', best_model.best_estimator_.get_params()['n_neighbors'])#Predict testing set\n",
        "y_pred = best_model.predict(X_test)#Check performance using accuracy\n",
        "print(accuracy_score(y_test, y_pred))\n",
        "\n",
        "# accuracy on X_test \n",
        "accuracy = knn.score(X_test, y_test) \n",
        "print(accuracy)\n",
        "  \n",
        "# creating a confusion matrix \n",
        "knn_predictions = knn.predict(X_test)  \n",
        "cm = confusion_matrix(y_test, knn_predictions) \n",
        "print(cm)"
      ],
      "execution_count": null,
      "outputs": [
        {
          "output_type": "stream",
          "text": [
            "(10000, 100)\n",
            "(10000,)\n",
            "(40000, 100)\n"
          ],
          "name": "stdout"
        }
      ]
    },
    {
      "cell_type": "code",
      "metadata": {
        "colab": {
          "base_uri": "https://localhost:8080/",
          "height": 265
        },
        "id": "O9AdYjNhlaLH",
        "outputId": "b392dbee-3471-49a7-c868-b61b32e1e7a0"
      },
      "source": [
        "from matplotlib import pyplot as plt\n",
        "fig, ax = plt.subplots(figsize =(10, 7)) \n",
        "ax.hist(data_Y, bins = [0,1, 2, 3, 4, 5, 6, 7, 8, 9, 10]) \n",
        "  \n",
        "# Show plot \n",
        "plt.show() "
      ],
      "execution_count": 8,
      "outputs": [
        {
          "output_type": "display_data",
          "data": {
            "image/png": "[encoded data removed]",
            "text/plain": [
              "<Figure size 432x288 with 1 Axes>"
            ]
          },
          "metadata": {
            "tags": [],
            "needs_background": "light"
          }
        }
      ]
    }
  ]
}
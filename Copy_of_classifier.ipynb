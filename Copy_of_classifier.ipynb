{
  "nbformat": 4,
  "nbformat_minor": 0,
  "metadata": {
    "colab": {
      "name": "Copy of classifier.ipynb",
      "provenance": [],
      "mount_file_id": "1nXxJF2mmDb9jqw9z5fGPp2kDG57uVefL",
      "authorship_tag": "ABX9TyNVUTNhVJn7+sxm8AzgBU/5",
      "include_colab_link": true
    },
    "kernelspec": {
      "name": "python3",
      "display_name": "Python 3"
    },
    "accelerator": "TPU"
  },
  "cells": [
    {
      "cell_type": "markdown",
      "metadata": {
        "id": "view-in-github",
        "colab_type": "text"
      },
      "source": [
        "<a href=\"https://colab.research.google.com/github/m-santh/AicoreKaggle/blob/main/Copy_of_classifier.ipynb\" target=\"_parent\"><img src=\"https://colab.research.google.com/assets/colab-badge.svg\" alt=\"Open In Colab\"/></a>"
      ]
    },
    {
      "cell_type": "code",
      "metadata": {
        "id": "IGESPEgPHQHg",
        "colab": {
          "base_uri": "https://localhost:8080/"
        },
        "outputId": "1a9ad372-07ea-407a-f95f-fa9f15140e0a"
      },
      "source": [
        "import numpy as np\n",
        "from sklearn.preprocessing import MinMaxScaler\n",
        "import seaborn as sns\n",
        "import pandas as pd\n",
        "\n",
        "import os\n",
        "#os.chdir(\"../../Kaggle/\")\n",
        "\n",
        "from sklearn.metrics import confusion_matrix \n",
        "from sklearn.model_selection import train_test_split \n",
        "from sklearn.preprocessing import StandardScaler\n",
        "\n",
        "data_X = np.load('/content/drive/MyDrive/AiCore/X_train.npy')\n",
        "data_Y = np.load('/content/drive/MyDrive/AiCore/y_train.npy')\n",
        "data_Y = data_Y.astype(int) \n",
        "test_data = np.load('/content/drive/MyDrive/AiCore/X_test.npy')\n",
        "\n",
        "unique, counts = np.unique(data_Y, return_counts=True)\n",
        "print(dict(zip(unique, counts)))\n",
        "\n",
        "scaler = MinMaxScaler()\n",
        "#scaler = StandardScaler()\n",
        "\n",
        "data_X = scaler.fit_transform(data_X)\n",
        "test_data = scaler.transform(test_data)\n",
        "#X_test = scaler.transform(X_test)\n",
        "\n",
        "print(np.shape(data_X))\n",
        "\n",
        "print(np.shape(data_Y))\n",
        "\n",
        "print(np.shape(test_data))\n",
        "\n",
        "\n",
        "X_train, X_test, y_train, y_test = train_test_split(data_X, data_Y, random_state = 37)\n",
        "\n",
        "# training a linear SVM classifier \n",
        "from sklearn.svm import LinearSVC\n",
        "from sklearn.svm import SVC\n",
        "from sklearn.linear_model import SGDClassifier\n",
        "svm_model_linear = SVC(kernel = 'rbf', C = 25, verbose=True, probability=True, random_state=0, class_weight=\"balanced\").fit(X_train, y_train) \n",
        "#svm_model_linear = LinearSVC(random_state=0, tol=1e-6, class_weight=\"balanced\", verbose=1, C=10, max_iter=10000).fit(X_train, y_train) \n",
        "svm_predictions = svm_model_linear.predict(X_test) \n",
        "\n",
        "svm_model_linear = SVC(kernel = 'rbf', C = 25, verbose=True, probability=True, random_state=0, class_weight=\"balanced\").fit(data_X, data_Y) \n",
        "y_test = svm_model_linear.predict(test_data) \n",
        "\n",
        "from sklearn.neural_network import MLPClassifier\n",
        "#dnn_classifier = MLPClassifier(hidden_layer_sizes = [100]*5)\n",
        "#dnn_classifier.fit(X_train, y_train)\n",
        "#dnn_predictions = dnn_classifier.predict(X_train)\n",
        "\n",
        "from sklearn.multiclass import OneVsRestClassifier\n",
        "#svm_model_linear = OneVsRestClassifier(MLPClassifier(hidden_layer_sizes = [100]*15))\n",
        "#svm_model_linear.fit(np.array(X_train), y_train)\n",
        "#svm_predictions = svm_model_linear.predict(X_test)\n",
        "\n",
        "pd.DataFrame({\"Id\": np.arange(len(y_test)), \"Category\": y_test}).astype(int).to_csv(\n",
        "    \"solution.csv\", index=False\n",
        ")\n",
        "\n",
        "# model accuracy for X_test   \n",
        "accuracy = svm_model_linear.score(X_test, y_test) \n",
        "\n",
        "print(accuracy)\n",
        "# creating a confusion matrix \n",
        "cm = confusion_matrix(y_test, svm_predictions) \n",
        "\n",
        "print(cm)"
      ],
      "execution_count": null,
      "outputs": [
        {
          "output_type": "stream",
          "text": [
            "{0: 1000, 1: 1000, 2: 1000, 3: 1000, 4: 1000, 5: 1000, 6: 1000, 7: 1000, 8: 1000, 9: 1000}\n",
            "(10000, 100)\n",
            "(10000,)\n",
            "(40000, 100)\n",
            "[LibSVM]"
          ],
          "name": "stdout"
        }
      ]
    }
  ]
}